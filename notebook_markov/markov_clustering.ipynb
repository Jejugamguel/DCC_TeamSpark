{
 "cells": [
  {
   "attachments": {},
   "cell_type": "markdown",
   "metadata": {},
   "source": [
    "### Markov Clustering을 활용한 분석"
   ]
  },
  {
   "cell_type": "code",
   "execution_count": null,
   "metadata": {},
   "outputs": [],
   "source": [
    "# 필요한 라이브러리 불러오기\n",
    "import folium\n",
    "import numpy as np\n",
    "import pandas as pd\n",
    "import matplotlib.pyplot as plt"
   ]
  },
  {
   "cell_type": "code",
   "execution_count": null,
   "metadata": {},
   "outputs": [],
   "source": [
    "# 데이터 불러오기\n",
    "data = pd.read_csv('check1_운행.csv', index_col=0)\n",
    "\n",
    "# 데이터에 그리드 번호 부여 : 서울을 포함하는 20x20 그리드\n",
    "# 중심좌표(center) : 서울광장\n",
    "center = [37.565960761761, 126.97908777727]\n",
    "\n",
    "# gird 번호 부여하는 함수\n",
    "def aloc_grid(coord):\n",
    "    xw = (coord[0] - center[0]) // 0.03\n",
    "    yw = (coord[1] - center[1]) // 0.038\n",
    "    if xw < -10 or xw > 9 or yw < -10 or yw > 9:\n",
    "        ans = 0\n",
    "    else:\n",
    "        ans = xw + 20*yw + 211\n",
    "    return 'grid_{}'.format(int(ans))\n",
    "\n",
    "# 각 데이터의 출발, 도착좌표에 따라 그리드번호 부여\n",
    "for idx, srs in data.iterrows():\n",
    "    data.at[idx, 'grid_x'] = aloc_grid([srs['s_lat'], srs['s_lng']])\n",
    "    data.at[idx, 'grid_y'] = aloc_grid([srs['e_lat'], srs['e_lng']])\n",
    "    \n",
    "# grid 범위 내 데이터만 추출\n",
    "ins = data[(data['grid_x'] != 'grid_0') & (data['grid_y'] != 'grid_0')]"
   ]
  },
  {
   "cell_type": "code",
   "execution_count": null,
   "metadata": {},
   "outputs": [],
   "source": [
    "# 마르코프 행렬 생성\n",
    "\n",
    "# 전이행렬 _ 각 grid의 연결횟수를 기록, 연결의 강력함을 볼 것임\n",
    "# 일단 Transpose로 제작, 마지막에 뒤집을거임\n",
    "grid_sz = 400\n",
    "\n",
    "# markov[행, 열]에 데이터 가산\n",
    "markov = np.zeros((grid_sz, grid_sz))\n",
    "for idx, srs in ins.iterrows():\n",
    "    markov[int(srs['grid_x'][5:])-1, int(srs['grid_y'][5:])-1] += 1\n",
    "\n",
    "# 대각성분을 모두 1로 치환\n",
    "for i in range(grid_sz):\n",
    "    markov[i, i] = 1\n",
    "\n",
    "# 각 행별로 성분을 표준화\n",
    "for i in range(grid_sz):\n",
    "    markov[i] = markov[i] / markov[i].sum()\n",
    "\n",
    "# 행렬을 뒤집기\n",
    "markov = markov.T"
   ]
  },
  {
   "cell_type": "code",
   "execution_count": null,
   "metadata": {},
   "outputs": [],
   "source": [
    "# 시각화를 위한 격자점 생성\n",
    "l1 = []\n",
    "for i in range(20):\n",
    "    for _ in range(20):\n",
    "        l1.append(i+1)\n",
    "l1 = np.array(l1)\n",
    "\n",
    "l2 = []\n",
    "for _ in range(20):\n",
    "    for i in range(20):\n",
    "        l2.append(i+1)\n",
    "l2 = np.array(l2)\n",
    "\n",
    "\n",
    "# 시각화 _ 각 그리드를 잇는 성분값이 클수록, 해당 그리드를 잇는 선이 짙어짐\n",
    "# 1차 시각화\n",
    "fig = plt.figure(figsize = (10, 10))\n",
    "\n",
    "for i in range(grid_sz):\n",
    "    for j in range(grid_sz):\n",
    "        if markov[j][i] != 0:\n",
    "            plt.plot([i//20 +1, j//20 +1], [i+1 - 20*(i//20), j+1 - 20*(j//20)], linewidth=markov[j, i]/np.max(markov)*5, alpha=0.3, color = 'red')\n",
    "    \n",
    "plt.scatter(l1, l2, s=50)\n",
    "plt.xticks(range(1, 21))\n",
    "plt.yticks(range(1, 21))\n",
    "\n",
    "plt.show()"
   ]
  },
  {
   "cell_type": "code",
   "execution_count": null,
   "metadata": {},
   "outputs": [],
   "source": [
    "# n차 이상의 연산을 위해 함수화\n",
    "# matrix : 초기 markov 행렬 : 가산 ~ 뒤집기까지 완료된 행렬\n",
    "# grid_num : 그리드 개수\n",
    "# level : 반복연산의 횟수\n",
    "def mk_view(matrix, grid_num, level):\n",
    "    for _ in range(level):\n",
    "        matrix_T = ((np.matmul(matrix, matrix))**2).T\n",
    "        for i in range(grid_num):\n",
    "            matrix_T[i] = matrix_T[i] / matrix_T[i].sum()\n",
    "        matrix = matrix_T.T\n",
    "    \n",
    "    fig = plt.figure(figsize = (10, 10))\n",
    "    for i in range(grid_num):\n",
    "        for j in range(grid_num):\n",
    "            if matrix[j][i] != 0:\n",
    "                plt.plot([i//20 +1, j//20 +1], [i+1 - 20*(i//20), j+1 - 20*(j//20)], linewidth=matrix[j, i]/np.max(matrix)*5, alpha=0.3, color = 'red')\n",
    "    plt.scatter(l1, l2, s=50)\n",
    "    plt.xticks(range(1, 21))\n",
    "    plt.yticks(range(1, 21))\n",
    "    plt.show()\n",
    "\n",
    "    return matrix\n",
    "\n",
    "re_mat = mk_view(markov, grid_sz, 2)"
   ]
  },
  {
   "cell_type": "code",
   "execution_count": null,
   "metadata": {},
   "outputs": [],
   "source": [
    "# 연결성이 가장 높은 그리드 6개 선택\n",
    "grid_hap = (re_mat + re_mat.T).sum(axis = 0)\n",
    "idx = (-grid_hap).argsort()[:6]\n",
    "\n",
    "for i in range(6):\n",
    "  globals()['c{}'.format(i+1)] = ins[ins['grid_x'] == 'grid_{}'.format(idx[i]+1)]\n",
    "  \n",
    "# 각 중심점별로, 중심점이 출발일 때의 도착점 시각화\n",
    "end = folium.Map(location=[37.53897093698831, 127.05461953077439], zoom_start=14)\n",
    "\n",
    "for i in range(len(c1)):\n",
    "  folium.CircleMarker(location = [c1.iloc[i]['e_lat'], c1.iloc[i]['e_lng']] , radius = 4, color='red').add_to(end)  \n",
    "for i in range(len(c6)):\n",
    "  folium.CircleMarker(location = [c6.iloc[i]['e_lat'], c6.iloc[i]['e_lng']] , radius = 4, color='blue').add_to(end)\n",
    "for i in range(len(c2)):\n",
    "  folium.CircleMarker(location = [c2.iloc[i]['e_lat'], c2.iloc[i]['e_lng']] , radius = 4, color='yellow').add_to(end) \n",
    "for i in range(len(c3)):\n",
    "  folium.CircleMarker(location = [c3.iloc[i]['e_lat'], c3.iloc[i]['e_lng']] , radius = 4, color='black').add_to(end) \n",
    "for i in range(len(c4)):\n",
    "  folium.CircleMarker(location = [c4.iloc[i]['e_lat'], c4.iloc[i]['e_lng']] , radius = 4, color='pink').add_to(end) \n",
    "for i in range(len(c5)):\n",
    "  folium.CircleMarker(location = [c5.iloc[i]['e_lat'], c5.iloc[i]['e_lng']] , radius = 4, color='green').add_to(end)\n",
    "\n",
    "\n",
    "# 각 중심점별로 출발점 시각화\n",
    "start = folium.Map(location=[37.53897093698831, 127.05461953077439], zoom_start=14)\n",
    "\n",
    "for i in range(len(c1)):\n",
    "  folium.CircleMarker(location = [c1.iloc[i]['s_lat'], c1.iloc[i]['s_lng']] , radius = 4, color='red').add_to(start)  \n",
    "for i in range(len(c6)):\n",
    "  folium.CircleMarker(location = [c6.iloc[i]['s_lat'], c6.iloc[i]['s_lng']] , radius = 4, color='blue').add_to(start)\n",
    "for i in range(len(c2)):\n",
    "  folium.CircleMarker(location = [c2.iloc[i]['s_lat'], c2.iloc[i]['s_lng']] , radius = 4, color='yellow').add_to(start) \n",
    "for i in range(len(c3)):\n",
    "  folium.CircleMarker(location = [c3.iloc[i]['s_lat'], c3.iloc[i]['s_lng']] , radius = 4, color='black').add_to(start) \n",
    "for i in range(len(c4)):\n",
    "  folium.CircleMarker(location = [c4.iloc[i]['s_lat'], c4.iloc[i]['s_lng']] , radius = 4, color='pink').add_to(start) \n",
    "for i in range(len(c5)):\n",
    "  folium.CircleMarker(location = [c5.iloc[i]['s_lat'], c5.iloc[i]['s_lng']] , radius = 4, color='green').add_to(start)"
   ]
  },
  {
   "cell_type": "code",
   "execution_count": null,
   "metadata": {},
   "outputs": [],
   "source": [
    "end.save('클러스터링 도착점.html')\n",
    "start.save('클러스터링 중심점.html')"
   ]
  }
 ],
 "metadata": {
  "kernelspec": {
   "display_name": "Python 3",
   "language": "python",
   "name": "python3"
  },
  "language_info": {
   "name": "python",
   "version": "3.9.5 (tags/v3.9.5:0a7dcbd, May  3 2021, 17:27:52) [MSC v.1928 64 bit (AMD64)]"
  },
  "orig_nbformat": 4,
  "vscode": {
   "interpreter": {
    "hash": "ae5be987c148d89c84ff8b399e0419f7ec11403716def357a7532a299975b856"
   }
  }
 },
 "nbformat": 4,
 "nbformat_minor": 2
}
