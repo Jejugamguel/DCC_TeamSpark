{
 "cells": [
  {
   "attachments": {},
   "cell_type": "markdown",
   "metadata": {},
   "source": [
    "### Appendix. 모의데이터 생성"
   ]
  },
  {
   "cell_type": "code",
   "execution_count": null,
   "metadata": {},
   "outputs": [],
   "source": [
    "# 필요한 라이브러리 불러오기\n",
    "import pandas as pd"
   ]
  },
  {
   "cell_type": "code",
   "execution_count": null,
   "metadata": {},
   "outputs": [],
   "source": [
    "원본예약 = pd.read_csv('/data/공유자동차예약이력.csv')\n",
    "원본운행 = pd.read_csv('/data/공유자동차운행이력.csv')\n",
    "\n",
    "원본예약['start_dt'] = pd.to_datetime(원본예약['start_dt'])\n",
    "원본예약['end_dt'] = pd.to_datetime(원본예약['end_dt'])\n",
    "원본예약['shup_dt'] = pd.to_datetime(원본예약['shup_dt'])\n",
    "원본예약['return_dt'] = pd.to_datetime(원본예약['return_dt'])\n",
    "원본예약['reg_dt'] = pd.to_datetime(원본예약['reg_dt'])\n",
    "원본예약['upd_dt'] = pd.to_datetime(원본예약['upd_dt'])\n",
    "\n",
    "원본운행['s_date'] = pd.to_datetime(원본운행['s_date'])\n",
    "원본운행['e_date'] = pd.to_datetime(원본운행['e_date'])\n",
    "원본운행['reg_dt'] = pd.to_datetime(원본운행['reg_dt'])\n",
    "원본운행['unique_dt'] = pd.to_datetime(원본운행['unique_dt'])\n",
    "\n",
    "모의예약 = pd.DataFrame()\n",
    "모의운행 = pd.DataFrame()"
   ]
  },
  {
   "cell_type": "code",
   "execution_count": null,
   "metadata": {},
   "outputs": [],
   "source": [
    "# 정수형 - 정수 균등분포\n",
    "모의예약['ndevice_id'] = np.random.randint(원본예약['ndevice_id'].min(), 원본예약['ndevice_id'].max(), 10000)\n",
    "모의예약['start_pkng_spot_id'] = np.random.randint(원본예약['start_pkng_spot_id'].min(), 원본예약['start_pkng_spot_id'].max(), 10000)\n",
    "모의예약['end_pkng_spot_id'] = np.random.randint(원본예약['end_pkng_spot_id'].min(), 원본예약['end_pkng_spot_id'].max(), 10000)\n",
    "\n",
    "\n",
    "# 날짜형 - 정수 균등분포\n",
    "from datetime import timedelta\n",
    "for i in ['start_dt', 'end_dt', 'shup_dt', 'return_dt', 'reg_dt', 'upd_dt']:\n",
    "  모의예약[i] = np.random.randint(0, (원본예약[i].max() - 원본예약[i].min()).days, 10000)\n",
    "  모의예약[i] = 모의예약[i].apply(lambda x : 원본예약[i].min() + timedelta(days = x))\n",
    "\n",
    "# 문자형 - 고정\n",
    "모의예약['tp_travl'] = 'R'\n",
    "\n",
    "# 실수형 - 정규분포\n",
    "모의예약['start_odometer'] = np.random.normal(원본예약['start_odometer'].mean(), 원본예약['start_odometer'].std(), 10000)\n",
    "모의예약['total_travl'] = np.random.normal(원본예약['total_travl'].mean(), 원본예약['total_travl'].std(), 10000)\n",
    "모의예약['fuel_usage'] = np.random.normal(원본예약['fuel_usage'].mean(), 원본예약['fuel_usage'].std(), 10000)\n",
    "모의예약['fuel_amount'] = np.random.normal(원본예약['fuel_amount'].mean(), 원본예약['fuel_amount'].std(), 10000)\n",
    "모의예약['start_fuel'] = np.random.normal(원본예약['start_fuel'].mean(), 원본예약['start_fuel'].std(), 10000)\n",
    "\n",
    "# 이진형 - 랜덤정수(0, 1)\n",
    "모의예약['auto_return_yn'] = np.random.randint(0, 2, 10000)\n",
    "모의예약['return_push_yn'] = np.random.randint(0, 2, 10000)\n",
    "모의예약['return_delay_sms_yn'] = np.random.randint(0, 2, 10000)\n",
    "모의예약['drive_push_yn'] = np.random.randint(0, 2, 10000)\n",
    "\n",
    "모의예약 = 모의예약[원본예약.columns]\n",
    "모의예약"
   ]
  },
  {
   "cell_type": "code",
   "execution_count": null,
   "metadata": {},
   "outputs": [],
   "source": [
    "# 정수형 - 정수 균등분포\n",
    "모의운행['ndevice_id'] = np.random.randint(원본운행['ndevice_id'].min(), 원본운행['ndevice_id'].max(), 10000)\n",
    "\n",
    "# 날짜형 - 정수 균등분포\n",
    "for i in ['s_date', 'reg_dt', 'unique_dt']:\n",
    "  모의운행[i] = np.random.randint(0, ((원본운행[i].max() - 원본운행[i].min()).seconds)//3600, 10000)\n",
    "  모의운행[i] = 모의운행[i].apply(lambda x : 원본운행[i].min() + timedelta(hours = x))\n",
    "# 날짜형 - 정수 포아송분포\n",
    "모의운행['e_date'] = np.random.poisson(lam=2, size=10000)\n",
    "모의운행['e_date'] = 모의운행.apply(lambda x : x['s_date'] + timedelta(hours = x['e_date']), axis = 1)\n",
    "\n",
    "# 정수형 - 고정값\n",
    "모의운행['fuel_rate'] = 1000000000\n",
    "모의운행['fuel_used'] = 1000000000\n",
    "모의운행['hit_cnt'] = 1000000000\n",
    "\n",
    "# 실수형 - 정규분포\n",
    "모의운행['s_odo'] = np.random.normal(원본운행['s_odo'].mean(), 원본운행['s_odo'].std(), 10000)\n",
    "모의운행['s_fuel'] = np.random.normal(원본운행['s_fuel'].mean(), 원본운행['s_fuel'].std(), 10000)\n",
    "모의운행['e_odo'] = np.random.normal(원본운행['e_odo'].mean(), 원본운행['e_odo'].std(), 10000)\n",
    "모의운행['e_fuel'] = np.random.normal(원본운행['e_fuel'].mean(), 원본운행['e_fuel'].std(), 10000)\n",
    "모의운행['s_lng'] = np.random.normal(원본운행['s_lng'].mean(), 원본운행['s_lng'].std()/5, 10000)\n",
    "모의운행['s_lat'] = np.random.normal(원본운행['s_lat'].mean(), 원본운행['s_lat'].std()/5, 10000)\n",
    "모의운행['e_lng'] = np.random.normal(원본운행['e_lng'].mean(), 원본운행['e_lng'].std()/5, 10000)\n",
    "모의운행['e_lat'] = np.random.normal(원본운행['e_lat'].mean(), 원본운행['e_lat'].std()/5, 10000)\n",
    "모의운행['s_gps_odo'] = np.random.normal(원본운행['s_gps_odo'].mean(), 원본운행['s_gps_odo'].std(), 10000)\n",
    "모의운행['e_gps_odo'] = np.random.normal(원본운행['e_gps_odo'].mean(), 원본운행['e_gps_odo'].std(), 10000)\n",
    "모의운행['idle_time'] = np.random.normal(원본운행['idle_time'].mean(), 원본운행['idle_time'].std(), 10000)\n",
    "모의운행['avg_rpm'] = np.random.normal(원본운행['avg_rpm'].mean(), 원본운행['avg_rpm'].std(), 10000)\n",
    "모의운행['max_rpm'] = np.random.normal(원본운행['max_rpm'].mean(), 원본운행['max_rpm'].std(), 10000)\n",
    "모의운행['s_can_batt_level'] = np.random.normal(원본운행['s_can_batt_level'].mean(), 원본운행['s_can_batt_level'].std(), 10000)\n",
    "모의운행['e_can_batt_level'] = np.random.normal(원본운행['e_can_batt_level'].mean(), 원본운행['e_can_batt_level'].std(), 10000)\n",
    "for i in range(20, 151, 10):\n",
    "  모의운행['s{}'.format(i)] = np.random.normal(원본운행['s{}'.format(i)].mean(), 원본운행['s{}'.format(i)].std(), 10000)\n",
    "\n",
    "# 이진형 - 랜덤정수(0, 1)\n",
    "모의운행['complete_yn'] = np.random.randint(0, 2, 10000)\n",
    "모의운행['gps_odo_yn'] = np.random.randint(0, 2, 10000)\n",
    "\n",
    "모의운행 = 모의운행[원본운행.columns]\n",
    "모의운행 = 모의운행.sort_values(by = ['ndevice_id', 's_date', 'e_date']).reset_index().drop(columns = 'index')\n",
    "모의운행"
   ]
  },
  {
   "cell_type": "code",
   "execution_count": null,
   "metadata": {},
   "outputs": [],
   "source": [
    "모의예약.to_csv('모의예약.csv')\n",
    "모의운행.to_csv('모의운행.csv')"
   ]
  }
 ],
 "metadata": {
  "language_info": {
   "name": "python"
  },
  "orig_nbformat": 4
 },
 "nbformat": 4,
 "nbformat_minor": 2
}
