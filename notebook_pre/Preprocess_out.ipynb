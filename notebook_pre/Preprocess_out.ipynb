{
 "cells": [
  {
   "attachments": {},
   "cell_type": "markdown",
   "metadata": {},
   "source": [
    "### 외부 데이터 Preprocess"
   ]
  },
  {
   "cell_type": "code",
   "execution_count": null,
   "metadata": {},
   "outputs": [],
   "source": [
    "# 필요한 라이브러리 불러오기\n",
    "import pandas as pd\n",
    "import geopandas as gpd"
   ]
  },
  {
   "cell_type": "code",
   "execution_count": null,
   "metadata": {},
   "outputs": [],
   "source": [
    "# 전국 grid별 지리정보 호출\n",
    "# s1_고속도로IC  /  s2_고속화철도  /  s3_공연문화시설  /  s4_노후주택수\n",
    "# s5_병원접근성  /  s6_생활권공원  /  s7_전기차충전소  /  s8_주차장접근성\n",
    "\n",
    "s1 = gpd.read_file('/data/외부데이터/고속도로IC접근성/179.2 IC(시군구격자) 접근성.shp', encoding='utf-8')\n",
    "s2 = gpd.read_file('/data/외부데이터/고속화도로접근성/180.2 고속·고속화철도(시군구격자) 접근성.shp', encoding='utf-8')\n",
    "s3 = gpd.read_file('/data/외부데이터/공연문화시설접근성/102.2 공연문화시설(시군구격자) 접근성.shp', encoding='utf-8')\n",
    "s4 = gpd.read_file('/data/외부데이터/노후주택수/25.1 노후 주택 수(20년).shp', encoding='utf-8')\n",
    "s5 = gpd.read_file('/data/외부데이터/병원접근성/140.2 병원(시군구격자) 접근성.shp', encoding='utf-8')\n",
    "s6 = gpd.read_file('/data/외부데이터/생활권공원접근성/66.2 생활권공원(시군구격자) 접근성.shp', encoding='utf-8')\n",
    "s7 = gpd.read_file('/data/외부데이터/전기차충전소접근성/시범 전기차충전소(시군구격자) 접근성.shp', encoding='utf-8')\n",
    "s8 = gpd.read_file('/data/외부데이터/주차장접근성/176.2 주자창(시군구격자) 접근성.shp', encoding='utf-8')"
   ]
  },
  {
   "cell_type": "code",
   "execution_count": null,
   "metadata": {},
   "outputs": [],
   "source": [
    "# 필요 데이터만을 위한 추출\n",
    "s1 = s1[s1['sido_nm_k'].isin(['서울특별시', '경기도', '인천광역시'])]\n",
    "s2 = s2[s2['sido_nm_k'].isin(['서울특별시', '경기도', '인천광역시'])][['gid', 'value']]\n",
    "s3 = s3[s3['sido_nm_k'].isin(['서울특별시', '경기도', '인천광역시'])][['gid', 'value']]\n",
    "s4 = s4[s4['sido_nm_k'].isin(['서울특별시', '경기도', '인천광역시'])][['gid', 'value']]\n",
    "s5 = s5[s5['sido_nm_k'].isin(['서울특별시', '경기도', '인천광역시'])][['gid', 'value']]\n",
    "s6 = s6[s6['sido_nm_k'].isin(['서울특별시', '경기도', '인천광역시'])][['gid', 'value']]\n",
    "s7 = s7[s7['sido_nm_k'].isin(['서울특별시', '경기도', '인천광역시'])][['gid', 'value']]\n",
    "s8 = s8[s8['sido_nm_k'].isin(['서울특별시', '경기도', '인천광역시'])][['gid', 'value']]"
   ]
  },
  {
   "cell_type": "code",
   "execution_count": null,
   "metadata": {},
   "outputs": [],
   "source": [
    "# 중복 column명을 피하기 위한 작업\n",
    "new_col = ['고속도로', '고속화도로', '공연문화시설', '노후주택수', '병원', '생활권공원', '전기차충전소', '주차장']\n",
    "for i in range(8):\n",
    "  globals()['s{}'.format(i+1)].rename(columns = {'value' : new_col[i]}, inplace=True)\n",
    "\n",
    "# 8개의 데이터를 하나의 데이터프레임으로 병합\n",
    "s_merge = s1\n",
    "for i in range(2, 9):\n",
    "  s_merge = pd.merge(s_merge, globals()['s{}'.format(i)])\n",
    "\n",
    "# 'geometry' 열의 좌표 변환 (UTM-K => WGS84)\n",
    "s_merge['geometry'] = s_merge['geometry'].to_crs(4326)"
   ]
  },
  {
   "cell_type": "code",
   "execution_count": null,
   "metadata": {},
   "outputs": [],
   "source": [
    "s_merge.to_csv('check2_서인경_그리드정보.csv')"
   ]
  }
 ],
 "metadata": {
  "kernelspec": {
   "display_name": "Python 3",
   "language": "python",
   "name": "python3"
  },
  "language_info": {
   "name": "python",
   "version": "3.9.5 (tags/v3.9.5:0a7dcbd, May  3 2021, 17:27:52) [MSC v.1928 64 bit (AMD64)]"
  },
  "orig_nbformat": 4,
  "vscode": {
   "interpreter": {
    "hash": "ae5be987c148d89c84ff8b399e0419f7ec11403716def357a7532a299975b856"
   }
  }
 },
 "nbformat": 4,
 "nbformat_minor": 2
}
