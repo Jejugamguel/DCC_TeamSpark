{
 "cells": [
  {
   "attachments": {},
   "cell_type": "markdown",
   "metadata": {},
   "source": [
    "### 시계열 데이터로서의 해석"
   ]
  },
  {
   "cell_type": "code",
   "execution_count": null,
   "metadata": {},
   "outputs": [],
   "source": [
    "import numpy as np\n",
    "import pandas as pd\n",
    "from pandas import datetime\n",
    "import matplotlib.pyplot as plt\n",
    "\n",
    "import statsmodels.api as sm\n",
    "from statsmodels.tsa.stattools import kpss\n",
    "from statsmodels.tsa.arima_model import ARIMA\n",
    "from statsmodels.tsa.stattools import adfuller\n",
    "from statsmodels.tsa.seasonal import seasonal_decompose"
   ]
  },
  {
   "cell_type": "code",
   "execution_count": null,
   "metadata": {},
   "outputs": [],
   "source": [
    "# 공유자동차 운행이력 데이터 불러오기\n",
    "raw_data = pd.read_csv('/data/공유자동차예약이력.csv')\n",
    "\n",
    "raw_data['Date'] = pd.to_datetime(raw_data['start_dt'])\n",
    "data = pd.DataFrame(raw_data.groupby('Date').count()['ndevice_id'])\n",
    "data = data.rename(columns={'ndevice_id':'rse_cnt'}).reset_index()\n",
    "\n",
    "plt.figure(figsize=(22,8))\n",
    "plt.plot(data.Date, data.rse_cnt)\n",
    "plt.title('Reservation count')\n",
    "plt.xlabel('Date')\n",
    "plt.ylabel('reserv')\n",
    "\n",
    "plt.show()"
   ]
  },
  {
   "cell_type": "code",
   "execution_count": null,
   "metadata": {},
   "outputs": [],
   "source": [
    "# 데이터 시간 정리 -> 2021-01-04 부터 2022-06-27 사용 (이후 5일 예측)\n",
    "ts_train = data[150:659]\n",
    "ts_test = data[659:664]\n",
    "ts_test2 = data[659:665]\n",
    "\n",
    "timeSeries = ts_train.loc[:,['Date','rse_cnt']]\n",
    "timeSeries.index = timeSeries.Date\n",
    "ts = timeSeries.drop('Date', axis=1)\n",
    "\n",
    "\n",
    "result = seasonal_decompose(ts['rse_cnt'], model='additive', period=12)\n",
    "fig = plt.figure()\n",
    "fig = result.plot()\n",
    "fig.set_size_inches(20,15)"
   ]
  },
  {
   "cell_type": "code",
   "execution_count": null,
   "metadata": {},
   "outputs": [],
   "source": [
    "# ACF, PACF 그래프\n",
    "fig = plt.figure(figsize=(20,8))\n",
    "ax1 = fig.add_subplot(211)\n",
    "fig = sm.graphics.tsa.plot_acf(ts[1:], lags=20, ax=ax1)\n",
    "ax2 = fig.add_subplot(212)\n",
    "fig = sm.graphics.tsa.plot_pacf(ts[1:], lags=20, ax=ax2)"
   ]
  },
  {
   "cell_type": "code",
   "execution_count": null,
   "metadata": {},
   "outputs": [],
   "source": [
    "# ADF 검정\n",
    "result = adfuller(ts)\n",
    "print('ADF StatisticL %f' % result[0])\n",
    "print('p-value: %f' % result[1])\n",
    "print('Critical Values: ')\n",
    "for key, value in result[4].items():\n",
    "  print('\\t%s: %.3f' %(key,value))\n",
    "\n",
    "# => p-value < 0.05이므로 만족"
   ]
  },
  {
   "cell_type": "code",
   "execution_count": null,
   "metadata": {},
   "outputs": [],
   "source": [
    "# KPSS 검정\n",
    "def kpss_test(df):\n",
    "  statistic, p_value, n_lags, critical_values = kpss(df.values)\n",
    "  print(f'KPSS Statistic: {statistic}')\n",
    "  print(f'p-value: {p_value}')\n",
    "  print(f'num lags: {n_lags}')\n",
    "  print('Critial Values:')\n",
    "  for key, value in critical_values.items():\n",
    "    print(f'{key} : {value}')\n",
    "\n",
    "kpss_test(ts)\n",
    "\n",
    "# => p-value < 0.05 이므로 정상시계열 아님"
   ]
  },
  {
   "cell_type": "code",
   "execution_count": null,
   "metadata": {},
   "outputs": [],
   "source": [
    "# 차분그래프\n",
    "ts_diff = ts - ts.shift()\n",
    "plt.figure(figsize=(22,8))\n",
    "plt.plot(ts_diff)\n",
    "plt.title('Differencing method')\n",
    "plt.xlabel('Date')\n",
    "plt.ylabel('Differencing Reservation count')\n",
    "\n",
    "plt.show()\n",
    "\n",
    "result = adfuller(ts_diff[1:])\n",
    "print('ADF StatisticL %f' % result[0])\n",
    "print('p-value: %f' % result[1])\n",
    "print('Critical Values: ')\n",
    "for key, value in result[4].items():\n",
    "  print('\\t%s: %.3f' %(key,value))\n",
    "# 1차 차분 데이터는 만족\n",
    "\n",
    "kpss_test(ts_diff[1:])\n",
    "\n",
    "# => p-value > 0.05 이므로 정상시계열"
   ]
  },
  {
   "cell_type": "code",
   "execution_count": null,
   "metadata": {},
   "outputs": [],
   "source": [
    "# ACF, PACF 그래프\n",
    "fig = plt.figure(figsize=(20,8))\n",
    "ax1 = fig.add_subplot(211)\n",
    "fig = sm.graphics.tsa.plot_acf(ts_diff[1:], lags=20, ax=ax1)\n",
    "ax2 = fig.add_subplot(212)\n",
    "fig = sm.graphics.tsa.plot_pacf(ts_diff[1:], lags=20, ax=ax2)"
   ]
  },
  {
   "cell_type": "code",
   "execution_count": null,
   "metadata": {},
   "outputs": [],
   "source": [
    "# ARIMA(4, 1, 4)\n",
    "model = ARIMA(ts, order=(4,1,4))\n",
    "model_fit = model.fit(disp=0)\n",
    "\n",
    "start_index = datetime(2022, 4, 1)\n",
    "end_index = datetime(2022, 6, 27)\n",
    "forecast = model_fit.predict(start=start_index, end=end_index, typ='levels')\n",
    "\n",
    "plt.figure(figsize=(22,8))\n",
    "plt.plot(ts_train.Date, ts_train.rse_cnt, label='original')\n",
    "plt.plot(forecast, label='predicted')\n",
    "plt.title('time series forecast')\n",
    "plt.xlabel('Date')\n",
    "plt.ylabel('Reservation')\n",
    "plt.legend()\n",
    "\n",
    "plt.show()"
   ]
  },
  {
   "cell_type": "code",
   "execution_count": null,
   "metadata": {},
   "outputs": [],
   "source": [
    "# 잔차 분석\n",
    "resi = np.array(ts_train[ts_train.Date>=start_index].rse_cnt) - np.array(forecast)\n",
    "\n",
    "plt.figure(figsize=(22,8))\n",
    "plt.plot(ts_train.Date[ts_train.Date>=start_index], resi)\n",
    "plt.xlabel('Date')\n",
    "plt.ylabel('residual')\n",
    "plt.legend()\n",
    "\n",
    "plt.show()"
   ]
  },
  {
   "cell_type": "code",
   "execution_count": null,
   "metadata": {},
   "outputs": [],
   "source": [
    "fig = plt.figure(figsize=(20,10))\n",
    "ax1 = fig.add_subplot(211)\n",
    "fig = sm.graphics.tsa.plot_acf(resi, lags=20, ax=ax1)\n",
    "\n",
    "result = adfuller(resi\n",
    "                  )\n",
    "print('ADF StatisticL %f' % result[0])\n",
    "print('p-value: %f' % result[1])\n",
    "print('Critical Values: ')\n",
    "\n",
    "for key, value in result[4].items():\n",
    "  print('\\t%s: %.3f' %(key,value))\n",
    "# model로 적절"
   ]
  },
  {
   "cell_type": "code",
   "execution_count": null,
   "metadata": {},
   "outputs": [],
   "source": [
    "print(model_fit.summary())"
   ]
  },
  {
   "cell_type": "code",
   "execution_count": null,
   "metadata": {},
   "outputs": [],
   "source": [
    "# ARIMA (4, 0, 4)\n",
    "model = ARIMA(ts, order=(4,0,4))\n",
    "model_fit = model.fit(disp=0)\n",
    "\n",
    "start_index = datetime(2022, 4, 1)\n",
    "end_index = datetime(2022, 6, 27)\n",
    "forecast = model_fit.predict(start=start_index, end=end_index, typ='levels')\n",
    "\n",
    "plt.figure(figsize=(22,8))\n",
    "plt.plot(ts_train.Date, ts_train.rse_cnt, label='original')\n",
    "plt.plot(forecast, label='predicted')\n",
    "plt.title('time series forecast')\n",
    "plt.xlabel('Date')\n",
    "plt.ylabel('Reservation')\n",
    "plt.legend()\n",
    "\n",
    "plt.show()"
   ]
  },
  {
   "cell_type": "code",
   "execution_count": null,
   "metadata": {},
   "outputs": [],
   "source": [
    "# 잔차 분석\n",
    "resi = np.array(ts_train[ts_train.Date>=start_index].rse_cnt) - np.array(forecast)\n",
    "\n",
    "plt.figure(figsize=(22,8))\n",
    "plt.plot(ts_train.Date[ts_train.Date>=start_index], resi)\n",
    "plt.xlabel('Date')\n",
    "plt.ylabel('residual')\n",
    "plt.legend()\n",
    "\n",
    "plt.show()"
   ]
  },
  {
   "cell_type": "code",
   "execution_count": null,
   "metadata": {},
   "outputs": [],
   "source": [
    "fig = plt.figure(figsize=(20,10))\n",
    "ax1 = fig.add_subplot(211)\n",
    "fig = sm.graphics.tsa.plot_acf(resi, lags=20, ax=ax1)\n",
    "\n",
    "result = adfuller(resi)\n",
    "\n",
    "print('ADF StatisticL %f' % result[0])\n",
    "print('p-value: %f' % result[1])\n",
    "print('Critical Values: ')\n",
    "\n",
    "for key, value in result[4].items():\n",
    "  print('\\t%s: %.3f' %(key,value))\n",
    "\n",
    "# p-value가 0.05보다 작음 => 모델로 적합"
   ]
  },
  {
   "cell_type": "code",
   "execution_count": null,
   "metadata": {},
   "outputs": [],
   "source": [
    "#학습데이터셋으로부터 5일 뒤 예측\n",
    "forecast_data = model_fit.forecast(steps=5)\n",
    "pred_y = forecast_data[0].tolist()      # 5일의 예측데이터\n",
    "test_y = ts_test.rse_cnt.values         # 실제 5일 데이터\n",
    "\n",
    "pred_y_lower = []\n",
    "pred_y_upper = []\n",
    "\n",
    "for lower_upper in forecast_data[2]:\n",
    "  lower = lower_upper[0]\n",
    "  upper = lower_upper[1]\n",
    "  pred_y_lower.append(lower)\n",
    "  pred_y_upper.append(upper)\n",
    "\n",
    "plt.plot(pred_y, color='gold')          # 모델 예측 그래프\n",
    "plt.plot(pred_y_lower, color='red')     # 모델 예측 최저 그래프\n",
    "plt.plot(pred_y_upper, color='blue')    # 모델 예측 최고 그래프\n",
    "plt.plot(test_y, color='green')         # 실제"
   ]
  },
  {
   "cell_type": "code",
   "execution_count": null,
   "metadata": {},
   "outputs": [],
   "source": [
    "#학습데이터셋으로부터 6일 뒤 예측\n",
    "forecast_data = model_fit.forecast(steps=6)\n",
    "pred_y = forecast_data[0].tolist()      # 6일의 예측데이터\n",
    "test_y = ts_test2.rse_cnt.values        # 실제 6일 데이터\n",
    "\n",
    "pred_y_lower = []\n",
    "pred_y_upper = []\n",
    "\n",
    "for lower_upper in forecast_data[2]:\n",
    "  lower = lower_upper[0]\n",
    "  upper = lower_upper[1]\n",
    "  pred_y_lower.append(lower)\n",
    "  pred_y_upper.append(upper)\n",
    "\n",
    "plt.plot(pred_y, color='gold')          # 모델 예측 그래프\n",
    "plt.plot(pred_y_lower, color='red')     # 모델 예측 최저 그래프\n",
    "plt.plot(pred_y_upper, color='blue')    # 모델 예측 최고 그래프\n",
    "plt.plot(test_y, color='green')         # 실제"
   ]
  }
 ],
 "metadata": {
  "kernelspec": {
   "display_name": "Python 3",
   "language": "python",
   "name": "python3"
  },
  "language_info": {
   "name": "python",
   "version": "3.9.5 (tags/v3.9.5:0a7dcbd, May  3 2021, 17:27:52) [MSC v.1928 64 bit (AMD64)]"
  },
  "orig_nbformat": 4,
  "vscode": {
   "interpreter": {
    "hash": "ae5be987c148d89c84ff8b399e0419f7ec11403716def357a7532a299975b856"
   }
  }
 },
 "nbformat": 4,
 "nbformat_minor": 2
}
