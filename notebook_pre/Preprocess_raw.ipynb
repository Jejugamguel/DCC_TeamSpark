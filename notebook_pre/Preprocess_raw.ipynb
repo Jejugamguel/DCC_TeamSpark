{
 "cells": [
  {
   "attachments": {},
   "cell_type": "markdown",
   "metadata": {},
   "source": [
    "### 원본 데이터 Preprocess"
   ]
  },
  {
   "cell_type": "code",
   "execution_count": null,
   "metadata": {},
   "outputs": [],
   "source": [
    "# 필요한 라이브러리 불러오기\n",
    "import folium\n",
    "import pandas as pd\n",
    "from datetime import timedelta"
   ]
  },
  {
   "cell_type": "code",
   "execution_count": null,
   "metadata": {},
   "outputs": [],
   "source": [
    "# 공유자동차 운행이력 데이터 불러오기\n",
    "raw_drive = pd.read_csv('/data/공유자동차운행이력.csv')\n",
    "\n",
    "# 날짜변환\n",
    "raw_drive['s_date'] = pd.to_datetime(raw_drive['s_date'])\n",
    "raw_drive['e_date'] = pd.to_datetime(raw_drive['e_date'])"
   ]
  },
  {
   "cell_type": "code",
   "execution_count": null,
   "metadata": {},
   "outputs": [],
   "source": [
    "# 1차 가공 _ 데이터 간격이 2시간 초과인 행이 나타날 때마다 자르기\n",
    "# 조건1 : 마지막 행인 경우\n",
    "# 조건2 : 이전 행의 'e_date'와 다음 행의 's_date'의 시간간격이 2시간 초과인 경우\n",
    "# 조건3 : 'ndevice_id'가 달라진 경우\n",
    "\n",
    "# start_end : 운행시작 index와 운행종료 index가 튜플로 담긴 리스트\n",
    "start_end, i = [], 0\n",
    "\n",
    "for idx in range(len(raw_drive)):\n",
    "    if idx == len(raw_drive) - 1:\n",
    "        start_end.append((i, idx))\n",
    "        break       \n",
    "    elif raw_drive.at[idx+1, 's_date'] - raw_drive.at[idx, 'e_date'] > timedelta(hours=2):\n",
    "        start_end.append((i, idx))\n",
    "        i = idx+1\n",
    "    elif raw_drive.at[idx, 'ndevice_id'] != raw_drive.at[idx+1, 'ndevice_id']:\n",
    "        start_end.append((i, idx))\n",
    "        i = idx+1\n",
    "\n",
    "# 운행데이터 뭉치의 출발위치와 도착위치를 이은 리스트\n",
    "first_drive_list = []\n",
    "for i in start_end:\n",
    "    first_drive_list.append([raw_drive.at[i[0], 's_lat'], raw_drive.at[i[0], 's_lng'], raw_drive.at[i[1], 'e_lat'], raw_drive.at[i[1], 'e_lng'], raw_drive.at[i[0], 's_gps_odo'], raw_drive.at[i[1], 'e_gps_odo']])\n",
    "first_drive = pd.DataFrame(data = first_drive_list, columns = ['s_lat', 's_lng', 'e_lat', 'e_lng', 's_gps_odo', 'e_gps_odo'])"
   ]
  },
  {
   "cell_type": "code",
   "execution_count": null,
   "metadata": {},
   "outputs": [],
   "source": [
    "# 2차가공 _ 출발~도착 주행거리가 1km 초과인 행만 가져오기\n",
    "# e_gps_odo - s_gps_odo가 1000 초과인 것만 추출\n",
    "first_drive['gps_ds'] = first_drive['e_gps_odo'] - first_drive['s_gps_odo']\n",
    "second_drive = first_drive[first_drive['gps_ds'] > 1000]"
   ]
  },
  {
   "cell_type": "code",
   "execution_count": null,
   "metadata": {},
   "outputs": [],
   "source": [
    "# 운행시작점 시각화\n",
    "map_s = folium.Map(location = [36, 128])\n",
    "for idx, srs in second_drive.iterrows():\n",
    "  folium.Circle(location = [srs['s_lat'], srs['s_lng']], radius = 20, color = 'red').add_to(map_s)\n",
    "map_s.save('시작점시각화.html')"
   ]
  },
  {
   "cell_type": "code",
   "execution_count": null,
   "metadata": {},
   "outputs": [],
   "source": [
    "# 운행종료점 시각화\n",
    "map_e = folium.Map(location = [36, 128])\n",
    "for idx, srs in second_drive.iterrows():\n",
    "  folium.Circle(location = [srs['e_lat'], srs['e_lng']], radius = 20, color = 'blue').add_to(map_e)\n",
    "map_e.save('도착점시각화.html')"
   ]
  },
  {
   "cell_type": "code",
   "execution_count": null,
   "metadata": {},
   "outputs": [],
   "source": [
    "second_drive.to_csv('check1_운행.csv')"
   ]
  }
 ],
 "metadata": {
  "kernelspec": {
   "display_name": "Python 3",
   "language": "python",
   "name": "python3"
  },
  "language_info": {
   "name": "python",
   "version": "3.9.5 (tags/v3.9.5:0a7dcbd, May  3 2021, 17:27:52) [MSC v.1928 64 bit (AMD64)]"
  },
  "orig_nbformat": 4,
  "vscode": {
   "interpreter": {
    "hash": "ae5be987c148d89c84ff8b399e0419f7ec11403716def357a7532a299975b856"
   }
  }
 },
 "nbformat": 4,
 "nbformat_minor": 2
}
