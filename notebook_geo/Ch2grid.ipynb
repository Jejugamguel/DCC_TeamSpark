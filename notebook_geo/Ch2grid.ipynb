{
 "cells": [
  {
   "attachments": {},
   "cell_type": "markdown",
   "metadata": {},
   "source": [
    "### 격자번호 부여\n",
    "##### notebook_pre 이후"
   ]
  },
  {
   "cell_type": "code",
   "execution_count": null,
   "metadata": {},
   "outputs": [],
   "source": [
    "# 필요한 라이브러리 불러오기\n",
    "import re\n",
    "import numpy as np\n",
    "import pandas as pd\n",
    "from scipy.spatial import KDTree\n",
    "from shapely.geometry import Point\n"
   ]
  },
  {
   "cell_type": "code",
   "execution_count": null,
   "metadata": {},
   "outputs": [],
   "source": [
    "# 서울/경기/인천의 그리드정보 불러오기\n",
    "# index 별 (=그리드 별) 위치정보만 취합\n",
    "grid = pd.read_csv('check2_서인경_그리드정보.csv').reset_index()\n",
    "grid = grid[['index', 'geometry']]"
   ]
  },
  {
   "cell_type": "code",
   "execution_count": null,
   "metadata": {},
   "outputs": [],
   "source": [
    "# 정규표현식을 활용한 좌표 추출\n",
    "p = re.compile('[0-9]+[.]?[0-9]+')\n",
    "def coord_ex(strg):\n",
    "  return list(map(float, p.findall(strg)))[::-1][:-2]\n",
    "\n",
    "# grid의 'coord'에 좌표 부여\n",
    "# coords에 각 그리드의 꼭짓점을 부여 (3차원)\n",
    "# centers에 각 그리드의 무게중심점을 부여 (2차원)\n",
    "grid['coord'] = grid['geometry'].apply(lambda x : coord_ex(x))\n",
    "coords = np.array(grid['coord'].values.tolist()).reshape(-1, 4, 2)\n",
    "centers = coords.mean(axis=1)\n",
    "\n",
    "# 그리드 번호와 무게중심점을 저장\n",
    "geo1 = pd.DataFrame(data = centers)\n",
    "geo1.to_csv('check3_1_그리드_중심정보.csv')\n",
    "\n",
    "# 그리드 번호와 꼭짓점을 저장\n",
    "geo2 = pd.DataFrame(coords.reshape(-1, 8))\n",
    "geo2.to_csv('check3_2_그리드_좌표정보.csv')"
   ]
  },
  {
   "cell_type": "code",
   "execution_count": null,
   "metadata": {},
   "outputs": [],
   "source": [
    "# 운행데이터 불러오기\n",
    "drive = pd.read_csv('check1_운행.csv', index_col = 0)\n",
    "\n",
    "# 최근접점을 찾아주는 KDTree 활용\n",
    "check_in = s_merge['geometry']\n",
    "tree = KDTree(centers)\n",
    "\n",
    "for idx, srs in 운행.iterrows():\n",
    "  # dd : 최근접점까지의 거리 (Euc)  /  ii : 최근접점의 인덱스\n",
    "  dd, ii = tree.query([srs['s_lat'], srs['s_lng']], k=1)\n",
    "  drive.at[idx, 'grid'] = ii\n",
    "\n",
    "  # 데이터가 최근접점(무게중심)의 실제 그리드 내에 있는지 판단\n",
    "  drive.at[idx, 'in_TF'] = Point([srs['s_lng'], srs['s_lat']]).within(check_in[ii])"
   ]
  },
  {
   "cell_type": "code",
   "execution_count": null,
   "metadata": {},
   "outputs": [],
   "source": [
    "# 격자범위 내에 없는 데이터는 -1번으로 부여\n",
    "for idx, srs in drive.iterrows():\n",
    "  if srs['in_TF']:\n",
    "    continue\n",
    "  else:\n",
    "    drive.at[idx, 'grid'] = -1\n",
    "\n",
    "# rough한 운행데이터 저장\n",
    "drive.to_csv('check4_1_운행_모든속성.csv')\n",
    "# 운행데이터 중 위치좌표/그리드만 추출\n",
    "drive_loc = drive[['s_lat', 's_lng', 'e_lat', 'e_lng', 'grid']]\n",
    "drive_loc.to_csv('check4_2_운행_좌표그리드.csv')"
   ]
  },
  {
   "cell_type": "code",
   "execution_count": null,
   "metadata": {},
   "outputs": [],
   "source": [
    "# 외부데이터 불러오기 : 서울 지하철역 위도/경도\n",
    "# 좌표 결측치 제거\n",
    "subway = pd.read_csv('서울 지하철역 좌표.csv')\n",
    "subway = subway[(subway['lat'].notnull()) & (subway['lng'].notnull())]\n",
    "\n",
    "bus = pd.read_csv('전국버스정류장 위치정보.csv', encoding='cp949')\n",
    "bus = bus[(bus['위도'].notnull()) & (bus['경도'].notnull())]\n",
    "# 버스는 전국데이터이므로, 수도권만 추려내기\n",
    "bus = bus[bus['정류장아이디'].str.contains('ICB|SEB|GGB')].rename(columns = {'위도' : 'lat', '경도' : 'lng'})\n",
    "\n",
    "# 대중교통 합체\n",
    "trans = pd.concat([subway[['lat', 'lng']], bus[['lat', 'lng']]], axis=0)\n",
    "\n",
    "# 최근접점을 찾아주는 KDTree 활용\n",
    "for idx, srs in trans.iterrows():\n",
    "  # dd : 최근접점까지의 거리 (Euc)  /  ii : 최근접점의 인덱스\n",
    "  dd, ii = tree.query([srs['lat'], srs['lng']], k=1)\n",
    "  trans.at[idx, 'grid'] = ii\n",
    "\n",
    "  # 데이터가 최근접점(무게중심)의 실제 그리드 내에 있는지 판단\n",
    "  trans.at[idx, 'in_TF'] = Point([srs['lng'], srs['lat']]).within(check_in[ii])"
   ]
  },
  {
   "cell_type": "code",
   "execution_count": null,
   "metadata": {},
   "outputs": [],
   "source": [
    "# 격자범위 내에 없는 데이터는 -1번으로 부여\n",
    "for idx, srs in trans.iterrows():\n",
    "  if srs['in_TF']:\n",
    "    continue\n",
    "  else:\n",
    "    trans.at[idx, 'grid'] = -1\n",
    "  \n",
    "# 운행데이터 중 위치좌표/그리드만 추출\n",
    "trans = trans[['lat', 'lng', 'grid']]\n",
    "trans.to_csv('check4_3_대중교통_좌표그리드.csv')"
   ]
  },
  {
   "cell_type": "code",
   "execution_count": null,
   "metadata": {},
   "outputs": [],
   "source": [
    "# 학습용 데이터 생성\n",
    "# 그리드 정보 가져오기\n",
    "grid_sik = pd.read_csv('/content/check2_서인경_그리드정보.csv', index_col = 0)\n",
    "data = grid_sik[['고속도로', '고속화도로', '공연문화시설', '노후주택수', '병원', '생활권공원', '전기차충전소', '주차장']]\n",
    "\n",
    "data.to_csv('check5_독립변수_전처리전.csv')"
   ]
  }
 ],
 "metadata": {
  "kernelspec": {
   "display_name": "Python 3",
   "language": "python",
   "name": "python3"
  },
  "language_info": {
   "name": "python",
   "version": "3.9.5 (tags/v3.9.5:0a7dcbd, May  3 2021, 17:27:52) [MSC v.1928 64 bit (AMD64)]"
  },
  "orig_nbformat": 4,
  "vscode": {
   "interpreter": {
    "hash": "ae5be987c148d89c84ff8b399e0419f7ec11403716def357a7532a299975b856"
   }
  }
 },
 "nbformat": 4,
 "nbformat_minor": 2
}
